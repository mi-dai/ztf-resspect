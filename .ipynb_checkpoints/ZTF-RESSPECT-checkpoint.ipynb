{
 "cells": [
  {
   "cell_type": "markdown",
   "id": "bb8293d7-4a84-4c59-9e95-e5cb426fee1c",
   "metadata": {},
   "source": [
    "## ZTF-RESSPECT\n",
    "We would like to run the RESSPECT pipeline with these two sets of ZTF data:\n",
    "<ol>\n",
    "  <li>ztf_axs, which is ZTF data release cross-matched with PanSTARRS catalog</li>\n",
    "  <li>alert data filtered and compiled from brokers</li>\n",
    "</ol>\n",
    "\n",
    "We would like to run a simple classifier, maybe Avocado (Boone 2019), or something else.<br>\n",
    "Eventually we would like to run an early classifier for SN Ia. I'm not aware of something available right now, maybe SCONE? We could build something ourselves. I'm particularly interested in something that combines image stamps/host info/color\n"
   ]
  },
  {
   "cell_type": "code",
   "execution_count": null,
   "id": "d1dec167-79d4-4acb-af9a-284db03a2c28",
   "metadata": {},
   "outputs": [],
   "source": []
  },
  {
   "cell_type": "markdown",
   "id": "61b25a80-f902-470a-aea6-b7d15a0b9d84",
   "metadata": {},
   "source": [
    "#### First we would like to load some photometry data, for now some place-holder subset"
   ]
  },
  {
   "cell_type": "code",
   "execution_count": null,
   "id": "52cc73fb-aba3-4715-9d69-0ccf870cb438",
   "metadata": {},
   "outputs": [],
   "source": []
  },
  {
   "cell_type": "markdown",
   "id": "3346f2a9-3839-4130-809c-54346e6c1c3a",
   "metadata": {},
   "source": [
    "#### We will need the spectral data later, possibly from SED Machine, or maybe TNS"
   ]
  },
  {
   "cell_type": "code",
   "execution_count": null,
   "id": "80890f17-ffa5-40b6-903d-89f474567f4f",
   "metadata": {},
   "outputs": [],
   "source": []
  },
  {
   "cell_type": "markdown",
   "id": "832b6858-a01d-40bc-8cdc-db654b278e25",
   "metadata": {},
   "source": [
    "#### Now let's set things up with TAPE"
   ]
  },
  {
   "cell_type": "code",
   "execution_count": null,
   "id": "2dee8cfc-658f-4a0d-9935-a049527ebd14",
   "metadata": {},
   "outputs": [],
   "source": []
  },
  {
   "cell_type": "markdown",
   "id": "9e6845b9-2f82-4acb-b8d3-87678ff0b486",
   "metadata": {},
   "source": [
    "#### Think about how TAPE interacts with RESSPECT"
   ]
  },
  {
   "cell_type": "code",
   "execution_count": null,
   "id": "06213eb0-a2b8-40b7-8b9c-f15148f3158f",
   "metadata": {},
   "outputs": [],
   "source": []
  },
  {
   "cell_type": "markdown",
   "id": "a73240c3-3921-4de6-a305-689d724ebb7f",
   "metadata": {},
   "source": [
    "#### Alternatively, we can run a classifier without RESSPECT for a simpler test"
   ]
  },
  {
   "cell_type": "code",
   "execution_count": null,
   "id": "5d16cee3-a612-4f9e-b2a9-08c2b4fd9617",
   "metadata": {},
   "outputs": [],
   "source": []
  }
 ],
 "metadata": {
  "kernelspec": {
   "display_name": "Python [conda env:tape_env]",
   "language": "python",
   "name": "conda-env-tape_env-py"
  },
  "language_info": {
   "codemirror_mode": {
    "name": "ipython",
    "version": 3
   },
   "file_extension": ".py",
   "mimetype": "text/x-python",
   "name": "python",
   "nbconvert_exporter": "python",
   "pygments_lexer": "ipython3",
   "version": "3.10.12"
  }
 },
 "nbformat": 4,
 "nbformat_minor": 5
}
